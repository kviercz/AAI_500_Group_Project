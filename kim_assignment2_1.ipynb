{
  "nbformat": 4,
  "nbformat_minor": 0,
  "metadata": {
    "colab": {
      "provenance": [],
      "authorship_tag": "ABX9TyNWXhzVbCmiG/2ZrXJYpMtF",
      "include_colab_link": true
    },
    "kernelspec": {
      "name": "python3",
      "display_name": "Python 3"
    },
    "language_info": {
      "name": "python"
    }
  },
  "cells": [
    {
      "cell_type": "markdown",
      "metadata": {
        "id": "view-in-github",
        "colab_type": "text"
      },
      "source": [
        "<a href=\"https://colab.research.google.com/github/kviercz/AAI_500_Group_Project/blob/main/kim_assignment2_1.ipynb\" target=\"_parent\"><img src=\"https://colab.research.google.com/assets/colab-badge.svg\" alt=\"Open In Colab\"/></a>"
      ]
    },
    {
      "cell_type": "code",
      "execution_count": 27,
      "metadata": {
        "id": "sqPtSE5qKGoN"
      },
      "outputs": [],
      "source": [
        "import pandas as pd\n",
        "import tensorflow as tf\n",
        "from tensorflow import keras\n",
        "from sklearn.model_selection import train_test_split\n",
        "from sklearn.preprocessing import StandardScaler\n",
        "from sklearn.feature_extraction.text import TfidfVectorizer\n",
        "from sklearn.metrics import accuracy_score, precision_score, recall_score, f1_score, roc_auc_score\n"
      ]
    },
    {
      "cell_type": "code",
      "source": [
        "# 1. Load Dataset\n",
        "df = pd.read_csv('M2-Advertising Dataset.csv')"
      ],
      "metadata": {
        "id": "SogwVmrCKPXy"
      },
      "execution_count": 18,
      "outputs": []
    },
    {
      "cell_type": "code",
      "source": [
        "# prompt: print out the columns\n",
        "\n",
        "print(df.columns.to_list())\n"
      ],
      "metadata": {
        "colab": {
          "base_uri": "https://localhost:8080/"
        },
        "id": "mqIOID3UKX9_",
        "outputId": "7e348de9-4da3-4a64-dc55-63779e9f8f72"
      },
      "execution_count": 7,
      "outputs": [
        {
          "output_type": "stream",
          "name": "stdout",
          "text": [
            "['Daily Time Spent on Site', 'Age', 'Area Income', 'Daily Internet Usage', 'Ad Topic Line', 'City', 'Male', 'Country', 'Clicked on Ad']\n"
          ]
        }
      ]
    },
    {
      "cell_type": "code",
      "source": [
        "# 2. Data preprocessing\n",
        "\n",
        "# Get info about the dataset and check for null values\n",
        "print(df.describe())\n",
        "df.info()\n",
        "df.isnull().sum()\n",
        "\n",
        "# Convert the countries column into categorical values to improve data training\n",
        "df = pd.get_dummies(df, columns=['Country'], drop_first=True)\n",
        "\n",
        "# Try to use data processing to handle the ad topic\n",
        "tfidf = TfidfVectorizer(stop_words='english', max_features=50)  # Limit to top 50 features\n",
        "ad_topic_features = tfidf.fit_transform(df['Ad Topic Line']).toarray()\n",
        "ad_topic_df = pd.DataFrame(ad_topic_features, columns=tfidf.get_feature_names_out())\n",
        "\n",
        "# Concatenate TF-IDF features with the original dataframe\n",
        "df = pd.concat([df, ad_topic_df], axis=1)\n",
        "\n",
        "# Drop the original 'Ad Topic Line' column\n",
        "df = df.drop(columns=['Ad Topic Line'])\n",
        "\n",
        "# Handle non-numeric columns\n",
        "df.drop(columns=['Timestamp'], inplace=True)\n",
        "df = pd.get_dummies(df, columns=['City'])\n"
      ],
      "metadata": {
        "colab": {
          "base_uri": "https://localhost:8080/"
        },
        "id": "pMgeSvvTKR-P",
        "outputId": "44ba623e-5ff7-4ea2-8a74-c4227a74c509"
      },
      "execution_count": 19,
      "outputs": [
        {
          "output_type": "stream",
          "name": "stdout",
          "text": [
            "       Daily Time Spent on Site          Age   Area Income  \\\n",
            "count               1000.000000  1000.000000   1000.000000   \n",
            "mean                  65.000200    36.009000  55000.000080   \n",
            "std                   15.853615     8.785562  13414.634022   \n",
            "min                   32.600000    19.000000  13996.500000   \n",
            "25%                   51.360000    29.000000  47031.802500   \n",
            "50%                   68.215000    35.000000  57012.300000   \n",
            "75%                   78.547500    42.000000  65470.635000   \n",
            "max                   91.430000    61.000000  79484.800000   \n",
            "\n",
            "       Daily Internet Usage         Male  Clicked on Ad  \n",
            "count           1000.000000  1000.000000     1000.00000  \n",
            "mean             180.000100     0.481000        0.50000  \n",
            "std               43.902339     0.499889        0.50025  \n",
            "min              104.780000     0.000000        0.00000  \n",
            "25%              138.830000     0.000000        0.00000  \n",
            "50%              183.130000     0.000000        0.50000  \n",
            "75%              218.792500     1.000000        1.00000  \n",
            "max              269.960000     1.000000        1.00000  \n",
            "<class 'pandas.core.frame.DataFrame'>\n",
            "RangeIndex: 1000 entries, 0 to 999\n",
            "Data columns (total 10 columns):\n",
            " #   Column                    Non-Null Count  Dtype  \n",
            "---  ------                    --------------  -----  \n",
            " 0   Daily Time Spent on Site  1000 non-null   float64\n",
            " 1   Age                       1000 non-null   int64  \n",
            " 2   Area Income               1000 non-null   float64\n",
            " 3   Daily Internet Usage      1000 non-null   float64\n",
            " 4   Ad Topic Line             1000 non-null   object \n",
            " 5   City                      1000 non-null   object \n",
            " 6   Male                      1000 non-null   int64  \n",
            " 7   Country                   1000 non-null   object \n",
            " 8   Timestamp                 1000 non-null   object \n",
            " 9   Clicked on Ad             1000 non-null   int64  \n",
            "dtypes: float64(3), int64(3), object(4)\n",
            "memory usage: 78.2+ KB\n"
          ]
        }
      ]
    },
    {
      "cell_type": "code",
      "source": [
        "# 3. Split data into train and test sets\n",
        "X = df.drop('Clicked on Ad', axis=1)\n",
        "y = df['Clicked on Ad']\n",
        "X_train, X_test, y_train, y_test = train_test_split(X, y, test_size=0.2, random_state=0)"
      ],
      "metadata": {
        "id": "8Z9LBifhSHuU"
      },
      "execution_count": 20,
      "outputs": []
    },
    {
      "cell_type": "code",
      "source": [
        "# 4. Scale the data using Standard Scaler\n",
        "scaler = StandardScaler()\n",
        "X_train = scaler.fit_transform(X_train)\n",
        "X_test = scaler.transform(X_test)"
      ],
      "metadata": {
        "id": "ReM_K_kaSmEj"
      },
      "execution_count": 21,
      "outputs": []
    },
    {
      "cell_type": "code",
      "source": [
        "# 5. Build an ANN Classification Model\n",
        "model = keras.Sequential([\n",
        "    keras.layers.Dense(64, activation='relu', input_shape=[X_train.shape[1]]),\n",
        "    keras.layers.Dropout(0.2),\n",
        "    keras.layers.Dense(32, activation='relu'),\n",
        "    keras.layers.Dropout(0.2),\n",
        "    keras.layers.Dense(1)\n",
        "])\n",
        "model.compile(optimizer='adam', loss='binary_crossentropy', metrics=['accuracy'])\n",
        "model.fit(X_train, y_train, epochs=100, batch_size=16)\n",
        "test_loss, test_accuracy = model.evaluate(X_test, y_test)\n",
        "# print('Test Loss: {:.4f}'.format(test_loss))"
      ],
      "metadata": {
        "colab": {
          "base_uri": "https://localhost:8080/"
        },
        "id": "fBW5NWQrSvSf",
        "outputId": "25836526-6f06-400c-af63-43a8bc7e481f"
      },
      "execution_count": 25,
      "outputs": [
        {
          "output_type": "stream",
          "name": "stdout",
          "text": [
            "Epoch 1/100\n",
            "50/50 [==============================] - 2s 4ms/step - loss: 4.6554 - accuracy: 0.5238\n",
            "Epoch 2/100\n",
            "50/50 [==============================] - 0s 4ms/step - loss: 2.7449 - accuracy: 0.6650\n",
            "Epoch 3/100\n",
            "50/50 [==============================] - 0s 3ms/step - loss: 1.5122 - accuracy: 0.7600\n",
            "Epoch 4/100\n",
            "50/50 [==============================] - 0s 4ms/step - loss: 0.8608 - accuracy: 0.8537\n",
            "Epoch 5/100\n",
            "50/50 [==============================] - 0s 4ms/step - loss: 0.7102 - accuracy: 0.8900\n",
            "Epoch 6/100\n",
            "50/50 [==============================] - 0s 3ms/step - loss: 0.4735 - accuracy: 0.9287\n",
            "Epoch 7/100\n",
            "50/50 [==============================] - 0s 3ms/step - loss: 0.4150 - accuracy: 0.9400\n",
            "Epoch 8/100\n",
            "50/50 [==============================] - 0s 2ms/step - loss: 0.2461 - accuracy: 0.9575\n",
            "Epoch 9/100\n",
            "50/50 [==============================] - 0s 2ms/step - loss: 0.2344 - accuracy: 0.9675\n",
            "Epoch 10/100\n",
            "50/50 [==============================] - 0s 2ms/step - loss: 0.2241 - accuracy: 0.9663\n",
            "Epoch 11/100\n",
            "50/50 [==============================] - 0s 2ms/step - loss: 0.1975 - accuracy: 0.9725\n",
            "Epoch 12/100\n",
            "50/50 [==============================] - 0s 3ms/step - loss: 0.1182 - accuracy: 0.9775\n",
            "Epoch 13/100\n",
            "50/50 [==============================] - 0s 2ms/step - loss: 0.0739 - accuracy: 0.9775\n",
            "Epoch 14/100\n",
            "50/50 [==============================] - 0s 2ms/step - loss: 0.0634 - accuracy: 0.9875\n",
            "Epoch 15/100\n",
            "50/50 [==============================] - 0s 2ms/step - loss: 0.1361 - accuracy: 0.9862\n",
            "Epoch 16/100\n",
            "50/50 [==============================] - 0s 2ms/step - loss: 0.1156 - accuracy: 0.9825\n",
            "Epoch 17/100\n",
            "50/50 [==============================] - 0s 2ms/step - loss: 0.0495 - accuracy: 0.9875\n",
            "Epoch 18/100\n",
            "50/50 [==============================] - 0s 2ms/step - loss: 0.0944 - accuracy: 0.9900\n",
            "Epoch 19/100\n",
            "50/50 [==============================] - 0s 2ms/step - loss: 0.0721 - accuracy: 0.9900\n",
            "Epoch 20/100\n",
            "50/50 [==============================] - 0s 3ms/step - loss: 0.0566 - accuracy: 0.9875\n",
            "Epoch 21/100\n",
            "50/50 [==============================] - 0s 2ms/step - loss: 0.0887 - accuracy: 0.9937\n",
            "Epoch 22/100\n",
            "50/50 [==============================] - 0s 2ms/step - loss: 0.0489 - accuracy: 0.9950\n",
            "Epoch 23/100\n",
            "50/50 [==============================] - 0s 2ms/step - loss: 0.0318 - accuracy: 0.9950\n",
            "Epoch 24/100\n",
            "50/50 [==============================] - 0s 2ms/step - loss: 0.0118 - accuracy: 0.9950\n",
            "Epoch 25/100\n",
            "50/50 [==============================] - 0s 2ms/step - loss: 0.0125 - accuracy: 0.9950\n",
            "Epoch 26/100\n",
            "50/50 [==============================] - 0s 2ms/step - loss: 0.0236 - accuracy: 0.9937\n",
            "Epoch 27/100\n",
            "50/50 [==============================] - 0s 2ms/step - loss: 0.0097 - accuracy: 0.9950\n",
            "Epoch 28/100\n",
            "50/50 [==============================] - 0s 2ms/step - loss: 0.0051 - accuracy: 0.9987\n",
            "Epoch 29/100\n",
            "50/50 [==============================] - 0s 3ms/step - loss: 0.0049 - accuracy: 0.9975\n",
            "Epoch 30/100\n",
            "50/50 [==============================] - 0s 2ms/step - loss: 0.0078 - accuracy: 0.9950\n",
            "Epoch 31/100\n",
            "50/50 [==============================] - 0s 2ms/step - loss: 0.0084 - accuracy: 0.9962\n",
            "Epoch 32/100\n",
            "50/50 [==============================] - 0s 2ms/step - loss: 0.0263 - accuracy: 0.9975\n",
            "Epoch 33/100\n",
            "50/50 [==============================] - 0s 2ms/step - loss: 0.0115 - accuracy: 0.9962\n",
            "Epoch 34/100\n",
            "50/50 [==============================] - 0s 2ms/step - loss: 0.0031 - accuracy: 0.9987\n",
            "Epoch 35/100\n",
            "50/50 [==============================] - 0s 2ms/step - loss: 0.0284 - accuracy: 0.9950\n",
            "Epoch 36/100\n",
            "50/50 [==============================] - 0s 2ms/step - loss: 0.0056 - accuracy: 0.9987\n",
            "Epoch 37/100\n",
            "50/50 [==============================] - 0s 3ms/step - loss: 0.0021 - accuracy: 1.0000\n",
            "Epoch 38/100\n",
            "50/50 [==============================] - 0s 2ms/step - loss: 0.0031 - accuracy: 0.9987\n",
            "Epoch 39/100\n",
            "50/50 [==============================] - 0s 2ms/step - loss: 0.0078 - accuracy: 0.9962\n",
            "Epoch 40/100\n",
            "50/50 [==============================] - 0s 2ms/step - loss: 0.0043 - accuracy: 0.9987\n",
            "Epoch 41/100\n",
            "50/50 [==============================] - 0s 2ms/step - loss: 0.0017 - accuracy: 0.9987\n",
            "Epoch 42/100\n",
            "50/50 [==============================] - 0s 2ms/step - loss: 0.0031 - accuracy: 0.9987\n",
            "Epoch 43/100\n",
            "50/50 [==============================] - 0s 2ms/step - loss: 0.0093 - accuracy: 0.9950\n",
            "Epoch 44/100\n",
            "50/50 [==============================] - 0s 2ms/step - loss: 0.0016 - accuracy: 1.0000\n",
            "Epoch 45/100\n",
            "50/50 [==============================] - 0s 2ms/step - loss: 0.0086 - accuracy: 0.9975\n",
            "Epoch 46/100\n",
            "50/50 [==============================] - 0s 3ms/step - loss: 0.0055 - accuracy: 0.9987\n",
            "Epoch 47/100\n",
            "50/50 [==============================] - 0s 2ms/step - loss: 0.0023 - accuracy: 0.9987\n",
            "Epoch 48/100\n",
            "50/50 [==============================] - 0s 2ms/step - loss: 0.0039 - accuracy: 0.9975\n",
            "Epoch 49/100\n",
            "50/50 [==============================] - 0s 2ms/step - loss: 0.0011 - accuracy: 1.0000\n",
            "Epoch 50/100\n",
            "50/50 [==============================] - 0s 2ms/step - loss: 0.0053 - accuracy: 0.9987\n",
            "Epoch 51/100\n",
            "50/50 [==============================] - 0s 2ms/step - loss: 0.0023 - accuracy: 0.9987\n",
            "Epoch 52/100\n",
            "50/50 [==============================] - 0s 2ms/step - loss: 9.2109e-04 - accuracy: 1.0000\n",
            "Epoch 53/100\n",
            "50/50 [==============================] - 0s 2ms/step - loss: 0.0000e+00 - accuracy: 1.0000\n",
            "Epoch 54/100\n",
            "50/50 [==============================] - 0s 3ms/step - loss: 0.0010 - accuracy: 1.0000\n",
            "Epoch 55/100\n",
            "50/50 [==============================] - 0s 2ms/step - loss: 9.1196e-04 - accuracy: 1.0000\n",
            "Epoch 56/100\n",
            "50/50 [==============================] - 0s 2ms/step - loss: 0.0013 - accuracy: 1.0000\n",
            "Epoch 57/100\n",
            "50/50 [==============================] - 0s 2ms/step - loss: 4.3208e-04 - accuracy: 1.0000\n",
            "Epoch 58/100\n",
            "50/50 [==============================] - 0s 2ms/step - loss: 0.0033 - accuracy: 0.9975\n",
            "Epoch 59/100\n",
            "50/50 [==============================] - 0s 2ms/step - loss: 9.9402e-04 - accuracy: 1.0000\n",
            "Epoch 60/100\n",
            "50/50 [==============================] - 0s 2ms/step - loss: 3.1268e-04 - accuracy: 1.0000\n",
            "Epoch 61/100\n",
            "50/50 [==============================] - 0s 2ms/step - loss: 0.0015 - accuracy: 0.9987\n",
            "Epoch 62/100\n",
            "50/50 [==============================] - 0s 3ms/step - loss: 4.9300e-04 - accuracy: 1.0000\n",
            "Epoch 63/100\n",
            "50/50 [==============================] - 0s 2ms/step - loss: 0.0019 - accuracy: 1.0000\n",
            "Epoch 64/100\n",
            "50/50 [==============================] - 0s 2ms/step - loss: 0.0205 - accuracy: 0.9975\n",
            "Epoch 65/100\n",
            "50/50 [==============================] - 0s 2ms/step - loss: 2.9191e-05 - accuracy: 1.0000\n",
            "Epoch 66/100\n",
            "50/50 [==============================] - 0s 2ms/step - loss: 0.0030 - accuracy: 0.9987\n",
            "Epoch 67/100\n",
            "50/50 [==============================] - 0s 2ms/step - loss: 0.0019 - accuracy: 0.9987\n",
            "Epoch 68/100\n",
            "50/50 [==============================] - 0s 2ms/step - loss: 2.1565e-04 - accuracy: 1.0000\n",
            "Epoch 69/100\n",
            "50/50 [==============================] - 0s 2ms/step - loss: 0.0021 - accuracy: 1.0000\n",
            "Epoch 70/100\n",
            "50/50 [==============================] - 0s 3ms/step - loss: 0.0018 - accuracy: 0.9987\n",
            "Epoch 71/100\n",
            "50/50 [==============================] - 0s 2ms/step - loss: 0.0011 - accuracy: 1.0000\n",
            "Epoch 72/100\n",
            "50/50 [==============================] - 0s 2ms/step - loss: 3.4197e-04 - accuracy: 1.0000\n",
            "Epoch 73/100\n",
            "50/50 [==============================] - 0s 2ms/step - loss: 0.0018 - accuracy: 1.0000\n",
            "Epoch 74/100\n",
            "50/50 [==============================] - 0s 2ms/step - loss: 0.0021 - accuracy: 1.0000\n",
            "Epoch 75/100\n",
            "50/50 [==============================] - 0s 2ms/step - loss: 0.0000e+00 - accuracy: 1.0000\n",
            "Epoch 76/100\n",
            "50/50 [==============================] - 0s 2ms/step - loss: 6.5298e-05 - accuracy: 1.0000\n",
            "Epoch 77/100\n",
            "50/50 [==============================] - 0s 2ms/step - loss: 9.9869e-04 - accuracy: 1.0000\n",
            "Epoch 78/100\n",
            "50/50 [==============================] - 0s 3ms/step - loss: 5.8661e-04 - accuracy: 1.0000\n",
            "Epoch 79/100\n",
            "50/50 [==============================] - 0s 2ms/step - loss: 0.0017 - accuracy: 0.9987\n",
            "Epoch 80/100\n",
            "50/50 [==============================] - 0s 2ms/step - loss: 1.7523e-04 - accuracy: 1.0000\n",
            "Epoch 81/100\n",
            "50/50 [==============================] - 0s 2ms/step - loss: 9.7041e-04 - accuracy: 1.0000\n",
            "Epoch 82/100\n",
            "50/50 [==============================] - 0s 2ms/step - loss: 0.0020 - accuracy: 0.9987\n",
            "Epoch 83/100\n",
            "50/50 [==============================] - 0s 2ms/step - loss: 5.9390e-04 - accuracy: 1.0000\n",
            "Epoch 84/100\n",
            "50/50 [==============================] - 0s 2ms/step - loss: 9.0691e-04 - accuracy: 1.0000\n",
            "Epoch 85/100\n",
            "50/50 [==============================] - 0s 2ms/step - loss: 8.1376e-04 - accuracy: 1.0000\n",
            "Epoch 86/100\n",
            "50/50 [==============================] - 0s 2ms/step - loss: 0.0000e+00 - accuracy: 1.0000\n",
            "Epoch 87/100\n",
            "50/50 [==============================] - 0s 3ms/step - loss: 5.0972e-04 - accuracy: 1.0000\n",
            "Epoch 88/100\n",
            "50/50 [==============================] - 0s 2ms/step - loss: 4.4781e-06 - accuracy: 1.0000\n",
            "Epoch 89/100\n",
            "50/50 [==============================] - 0s 2ms/step - loss: 8.5154e-04 - accuracy: 1.0000\n",
            "Epoch 90/100\n",
            "50/50 [==============================] - 0s 3ms/step - loss: 0.0028 - accuracy: 0.9987\n",
            "Epoch 91/100\n",
            "50/50 [==============================] - 0s 3ms/step - loss: 0.0198 - accuracy: 0.9987\n",
            "Epoch 92/100\n",
            "50/50 [==============================] - 0s 3ms/step - loss: 0.0011 - accuracy: 1.0000\n",
            "Epoch 93/100\n",
            "50/50 [==============================] - 0s 3ms/step - loss: 2.6791e-04 - accuracy: 1.0000\n",
            "Epoch 94/100\n",
            "50/50 [==============================] - 0s 4ms/step - loss: 6.7712e-05 - accuracy: 1.0000\n",
            "Epoch 95/100\n",
            "50/50 [==============================] - 0s 3ms/step - loss: 5.5077e-04 - accuracy: 1.0000\n",
            "Epoch 96/100\n",
            "50/50 [==============================] - 0s 3ms/step - loss: 1.4434e-04 - accuracy: 1.0000\n",
            "Epoch 97/100\n",
            "50/50 [==============================] - 0s 3ms/step - loss: 0.0000e+00 - accuracy: 1.0000\n",
            "Epoch 98/100\n",
            "50/50 [==============================] - 0s 4ms/step - loss: 6.2317e-05 - accuracy: 1.0000\n",
            "Epoch 99/100\n",
            "50/50 [==============================] - 0s 4ms/step - loss: 0.0013 - accuracy: 1.0000\n",
            "Epoch 100/100\n",
            "50/50 [==============================] - 0s 3ms/step - loss: 0.0013 - accuracy: 1.0000\n",
            "7/7 [==============================] - 0s 2ms/step - loss: 2.0829 - accuracy: 0.7900\n"
          ]
        }
      ]
    },
    {
      "cell_type": "code",
      "source": [
        "# 7 Model's performance\n",
        "print('Test Loss: {:.4f}'.format(test_loss))\n",
        "print('Test Accuracy: {:.4f}'.format(test_accuracy))\n",
        "\n",
        "# ROC AUC\n",
        "y_pred_prob = model.predict(X_test)\n",
        "roc_auc = roc_auc_score(y_test, y_pred_prob)\n",
        "print('ROC AUC: {:.4f}'.format(roc_auc))\n",
        "\n",
        "# Predictive classes\n",
        "y_pred = (y_pred_prob > 0.5).astype(int)\n",
        "\n",
        "# Accuracy\n",
        "accuracy = accuracy_score(y_test, y_pred)\n",
        "print('Accuracy: {:.4f}'.format(accuracy))\n",
        "\n",
        "# Precision\n",
        "precision = precision_score(y_test, y_pred)\n",
        "print('Precision: {:.4f}'.format(precision))\n",
        "\n",
        "# Recall\n",
        "recall = recall_score(y_test, y_pred)\n",
        "print('Recall: {:.4f}'.format(recall))\n",
        "\n",
        "# F1\n",
        "f1 = f1_score(y_test, y_pred)\n",
        "print('F1 Score: {:.4f}'.format(f1))"
      ],
      "metadata": {
        "colab": {
          "base_uri": "https://localhost:8080/"
        },
        "id": "meEkASx7V3e5",
        "outputId": "6f7d2706-96b6-41bf-d57a-f71421cf8887"
      },
      "execution_count": 30,
      "outputs": [
        {
          "output_type": "stream",
          "name": "stdout",
          "text": [
            "Test Loss: 2.0829\n",
            "Test Accuracy: 0.7900\n",
            "7/7 [==============================] - 0s 3ms/step\n",
            "ROC AUC: 0.8684\n",
            "Accuracy: 0.7900\n",
            "Precision: 0.7273\n",
            "Recall: 0.8696\n",
            "F1 Score: 0.7921\n"
          ]
        }
      ]
    }
  ]
}