{
 "cells": [
  {
   "cell_type": "markdown",
   "id": "2c98c76b",
   "metadata": {},
   "source": [
    "# Group 4 Project\n",
    "\n",
    "Name:  Kim Vierczhalek, Vanessa Laxamana, Nick Short\n",
    "Date:  10.24.2023"
   ]
  },
  {
   "cell_type": "markdown",
   "id": "200b2fd3",
   "metadata": {},
   "source": [
    "Jupyter notebook that walks through the different functions we used for analysis. This includes the main function description. There is a github project that includes the py file that can be run seperately.\n",
    "\n",
    "## Main\n",
    "The below lines of code serve as the main function and are used to define the initial dataframe and predictor values. There are calls to the model calculations, output for formatting as well as the visualize function to output the data as a visual."
   ]
  },
  {
   "cell_type": "code",
   "execution_count": null,
   "id": "0047e846",
   "metadata": {},
   "outputs": [],
   "source": [
    "import numpy as np\n",
    "import statsmodels.api as sm\n",
    "import pandas as pd\n",
    "import matplotlib.pyplot as plt\n",
    "from sklearn.model_selection import train_test_split\n",
    "from sklearn.linear_model import LinearRegression\n",
    "from sklearn.metrics import r2_score\n",
    "from scipy.stats import norm\n",
    "\n",
    "red_df = pd.read_csv('winequality/winequality-red.csv', sep=';')\n",
    "predictor_vars = ['volatile acidity', 'residual sugar', 'alcohol', 'pH']\n",
    "\n",
    "# Use predictor_vars as independent vars\n",
    "X = red_df[predictor_vars]\n",
    "# Using quality as our dependent variable\n",
    "y = red_df['quality']\n",
    "\n",
    "# Add a constant term (ie. the intercept)\n",
    "X = sm.add_constant(X)\n",
    "\n",
    "# Calculate n and p values for adj_r_squared\n",
    "n = len(y)\n",
    "p = len(X)\n",
    "\n",
    "# Run through each of our 3 models \n",
    "ols_model, r_squared, aic, adj_r_squared, p_value = OLS(X, y, n, p)\n",
    "glm_model, r_squared, aic, adj_r_squared, p_value = glm(X, y, n, p)\n",
    "# Multiple Linear Regression function to calculate and output calculateions\n",
    "mlr(X, y, n, p)\n",
    "\n",
    "# Get the output (r-squared, aic, adj_r_squared, p-values)\n",
    "#  to be used for comparison\n",
    "output(ols_model, r_squared, aic, adj_r_squared, p_value, \"OLS\")\n",
    "output(glm_model, r_squared, aic, adj_r_squared, p_value, \"GLM\")\n",
    "\n",
    "# Visualization function, mostly to help with analysis\n",
    "visualize(red_df)"
   ]
  },
  {
   "cell_type": "markdown",
   "id": "bfe46b38",
   "metadata": {},
   "source": [
    "## OLS Function\n",
    "The below function is for the OLS calculations. We used the stats model OLS function for our calculations, which provide the ability to calculate certain predictor values such as the r_squared, aic and p_values."
   ]
  },
  {
   "cell_type": "code",
   "execution_count": null,
   "id": "844c895b",
   "metadata": {},
   "outputs": [],
   "source": [
    "# OLS Function runs OLS model on given dataframe\n",
    "def OLS(X, y, n, p):\n",
    "    # Using stats model OLS function to find fit\n",
    "    model = sm.OLS(y, X).fit()\n",
    "    \n",
    "    # Calculate r-squared, aic, adjusted r-squared and p-values\n",
    "    r_squared = model.rsquared\n",
    "    aic = model.aic\n",
    "    p_value = model.pvalues\n",
    "    adj_r_squared = 1 - (1-r_squared) * ((n-1)/(n-p-1))\n",
    "    return model, r_squared, aic, adj_r_squared, p_value\n"
   ]
  },
  {
   "cell_type": "markdown",
   "id": "c335a162",
   "metadata": {},
   "source": [
    "## Multiple Linear Regression\n",
    "The below function is for the multiple linear regression calculations. Due to the slightly more complex nature of the output of this function, specific calculations for r-squared, adjusted r-squared and p-values were included in this function. We used sampling to calculate the p-values as well as a test-train method for attempting to calculate the predictor value. "
   ]
  },
  {
   "cell_type": "code",
   "execution_count": null,
   "id": "fbfddc6e",
   "metadata": {},
   "outputs": [],
   "source": [
    "# Multiple Linear Regression\n",
    "def mlr(X, y, n, p):\n",
    "    # Split the dataset into training and testing sets \n",
    "    X_train, X_test, y_train, y_test = train_test_split(X, y, test_size=0.2, random_state=0)\n",
    "\n",
    "    # Create linear Regression model to fit training data\n",
    "    model = LinearRegression()\n",
    "    model.fit(X_train, y_train)\n",
    "\n",
    "    # Use test data as prediction\n",
    "    y_pred = model.predict(X_test)\n",
    "\n",
    "    # Evaluate the performance using r-squared test\n",
    "    r_squared = r2_score(y_test, y_pred)\n",
    "\n",
    "    # Number of iteration to bootstrap\n",
    "    n_iterations = 1000\n",
    "    # Initialize empty list to store coefficients in\n",
    "    coefs = [] \n",
    "\n",
    "    # Calculate p-values using bootstrapping\n",
    "    for _ in range(n_iterations):\n",
    "        # Set indices used for sampling\n",
    "        indices = np.random.choice(len(X_train), len(X_train), replace=True)\n",
    "\n",
    "        # Create samples\n",
    "        X_train_sampled = X_train.values[indices]\n",
    "        y_train_sampled = y_train.values[indices]\n",
    "\n",
    "        # Calculate linear regression based on samples\n",
    "        model = LinearRegression()\n",
    "        model.fit(X_train_sampled, y_train_sampled)\n",
    "\n",
    "        # Update the coefficient list with values from the model\n",
    "        coefs.append(model.coef_)\n",
    "\n",
    "    # Calculate p-values\n",
    "    coef_means = np.mean(coefs, axis=0)\n",
    "    coef_stds = np.std(coefs, axis=0)\n",
    "    z_scores = coef_means / coef_stds\n",
    "    p_values = [2 * (1 - norm.cdf(abs(z))) for z in z_scores]\n",
    "\n",
    "    # Calculate the adjusted R-squared value\n",
    "    adj_r_squared = 1 - (1 - r_squared) * (n - 1) / (n - p - 1)\n",
    "\n",
    "    # Due to different formatting of performance variables, output results in function\n",
    "    print(f\"\\n Performance Variables for: Multiple Linear Regression\")\n",
    "    print(f\"R_Squared: {r_squared:.4f}\")\n",
    "    print(f\"Adjusted_R_squared: {adj_r_squared:.4f}\")\n",
    "    print(\"P-Values: \")\n",
    "    for i, p_value in enumerate(p_values):\n",
    "        print(f'Coefficient {i}: {p_value}')"
   ]
  },
  {
   "cell_type": "markdown",
   "id": "a95e4271",
   "metadata": {},
   "source": [
    "## Generalized Linear Model\n",
    "\n",
    "This function was not used as part of our final analysis, but was included as a comparison/baseline function. We used the Gaussian distribution due to the multiple predictor values as well as the shape of the data. Since we did not use this model for our final output, we did not calculate p-values for this function."
   ]
  },
  {
   "cell_type": "code",
   "execution_count": null,
   "id": "ce77fa31",
   "metadata": {},
   "outputs": [],
   "source": [
    "def glm(X, y, n, p):\n",
    "    # Use Gaussian family for our GLM model\n",
    "    model = sm.GLM(y, X, family=sm.families.Gaussian())\n",
    "    # Fit the model\n",
    "    results = model.fit()\n",
    "    \n",
    "    # Calculate pseudo r-squared using null deviance and deviance\n",
    "    null_deviance = results.null_deviance\n",
    "    deviance = results.deviance\n",
    "    r_squared = 1 - (deviance/null_deviance)\n",
    "\n",
    "    # Use r-squared value to calculate the adj_r_squared\n",
    "    adj_r_squared = 1 - (1-r_squared) * ((n-1)/n-p-1)\n",
    "\n",
    "    # Calculate AIC\n",
    "    aic = results.aic\n",
    "\n",
    "    # Not using this model so pass bad p-values as placeholder\n",
    "    p_value = 100\n",
    "\n",
    "    return r_squared, adj_r_squared, aic, p_value, results"
   ]
  }
 ],
 "metadata": {
  "kernelspec": {
   "display_name": "Python 3 (ipykernel)",
   "language": "python",
   "name": "python3"
  },
  "language_info": {
   "codemirror_mode": {
    "name": "ipython",
    "version": 3
   },
   "file_extension": ".py",
   "mimetype": "text/x-python",
   "name": "python",
   "nbconvert_exporter": "python",
   "pygments_lexer": "ipython3",
   "version": "3.11.4"
  }
 },
 "nbformat": 4,
 "nbformat_minor": 5
}
